{
 "cells": [
  {
   "cell_type": "code",
   "execution_count": 1,
   "metadata": {},
   "outputs": [
    {
     "name": "stderr",
     "output_type": "stream",
     "text": [
      "2024-03-28 23:50:56.628886: I tensorflow/core/util/port.cc:113] oneDNN custom operations are on. You may see slightly different numerical results due to floating-point round-off errors from different computation orders. To turn them off, set the environment variable `TF_ENABLE_ONEDNN_OPTS=0`.\n",
      "2024-03-28 23:50:56.683246: E external/local_xla/xla/stream_executor/cuda/cuda_dnn.cc:9261] Unable to register cuDNN factory: Attempting to register factory for plugin cuDNN when one has already been registered\n",
      "2024-03-28 23:50:56.683286: E external/local_xla/xla/stream_executor/cuda/cuda_fft.cc:607] Unable to register cuFFT factory: Attempting to register factory for plugin cuFFT when one has already been registered\n",
      "2024-03-28 23:50:56.684472: E external/local_xla/xla/stream_executor/cuda/cuda_blas.cc:1515] Unable to register cuBLAS factory: Attempting to register factory for plugin cuBLAS when one has already been registered\n",
      "2024-03-28 23:50:56.694428: I tensorflow/core/platform/cpu_feature_guard.cc:182] This TensorFlow binary is optimized to use available CPU instructions in performance-critical operations.\n",
      "To enable the following instructions: AVX2 AVX_VNNI FMA, in other operations, rebuild TensorFlow with the appropriate compiler flags.\n",
      "2024-03-28 23:50:58.144999: W tensorflow/compiler/tf2tensorrt/utils/py_utils.cc:38] TF-TRT Warning: Could not find TensorRT\n"
     ]
    }
   ],
   "source": [
    "import numpy as np\n",
    "import tensorflow as tf\n",
    "import os\n",
    "from PIL import Image\n",
    "\n",
    "from tensorflow.keras.models import Sequential\n",
    "from tensorflow.keras.layers import Conv2D, MaxPooling2D, Flatten, Dense,Dropout,BatchNormalization\n",
    "from tensorflow.keras.preprocessing.image import img_to_array, load_img,ImageDataGenerator\n",
    "from tensorflow.keras.utils import to_categorical\n",
    "from tensorflow.keras.optimizers import Adam\n",
    "from tensorflow.keras import regularizers\n",
    "from sklearn.model_selection import train_test_split\n",
    "\n"
   ]
  },
  {
   "cell_type": "code",
   "execution_count": 2,
   "metadata": {},
   "outputs": [
    {
     "data": {
      "text/plain": [
       "['meningioma', 'glioma', 'pituitary', 'notumor']"
      ]
     },
     "execution_count": 2,
     "metadata": {},
     "output_type": "execute_result"
    }
   ],
   "source": [
    "class_labels = os.listdir('Dataset/Training')\n",
    "class_labels"
   ]
  },
  {
   "cell_type": "code",
   "execution_count": 3,
   "metadata": {},
   "outputs": [
    {
     "name": "stdout",
     "output_type": "stream",
     "text": [
      "Found 5712 images belonging to 4 classes.\n",
      "Found 656 images belonging to 4 classes.\n",
      "Found 655 images belonging to 4 classes.\n"
     ]
    }
   ],
   "source": [
    "train_datagen = ImageDataGenerator(rescale = 1./255)\n",
    "training_set = train_datagen.flow_from_directory('Dataset/Training', \n",
    "                                                 target_size = (256, 256), \n",
    "                                                 batch_size = 16,\n",
    "                                                 color_mode = 'grayscale',\n",
    "                                                 class_mode = 'categorical',\n",
    "                                                 shuffle = True)\n",
    "\n",
    "test_datagen = ImageDataGenerator(rescale = 1./255, validation_split = 0.5)\n",
    "dev_set = test_datagen.flow_from_directory('Dataset/Testing', \n",
    "                                                 target_size = (256, 256), \n",
    "                                                 batch_size = 16,\n",
    "                                                 class_mode = 'categorical',\n",
    "                                                 color_mode = 'grayscale',\n",
    "                                                 shuffle = True,\n",
    "                                                 subset = \"validation\")\n",
    "\n",
    "test_set = test_datagen.flow_from_directory('Dataset/Testing',\n",
    "                                                   target_size = (256, 256),\n",
    "                                                   batch_size = 16,\n",
    "                                                   class_mode = 'categorical',\n",
    "                                                   color_mode = 'grayscale',\n",
    "                                                   shuffle = False,\n",
    "                                                   subset = \"testing\")"
   ]
  },
  {
   "cell_type": "code",
   "execution_count": 4,
   "metadata": {},
   "outputs": [
    {
     "data": {
      "text/plain": [
       "keras.src.preprocessing.image.DirectoryIterator"
      ]
     },
     "execution_count": 4,
     "metadata": {},
     "output_type": "execute_result"
    }
   ],
   "source": [
    "type(training_set)"
   ]
  },
  {
   "cell_type": "markdown",
   "metadata": {},
   "source": [
    "## VGG Arch"
   ]
  },
  {
   "cell_type": "code",
   "execution_count": 5,
   "metadata": {},
   "outputs": [
    {
     "name": "stderr",
     "output_type": "stream",
     "text": [
      "2024-03-28 23:51:01.597359: I external/local_xla/xla/stream_executor/cuda/cuda_executor.cc:887] could not open file to read NUMA node: /sys/bus/pci/devices/0000:01:00.0/numa_node\n",
      "Your kernel may have been built without NUMA support.\n",
      "2024-03-28 23:51:01.671265: I external/local_xla/xla/stream_executor/cuda/cuda_executor.cc:887] could not open file to read NUMA node: /sys/bus/pci/devices/0000:01:00.0/numa_node\n",
      "Your kernel may have been built without NUMA support.\n",
      "2024-03-28 23:51:01.671331: I external/local_xla/xla/stream_executor/cuda/cuda_executor.cc:887] could not open file to read NUMA node: /sys/bus/pci/devices/0000:01:00.0/numa_node\n",
      "Your kernel may have been built without NUMA support.\n",
      "2024-03-28 23:51:01.676494: I external/local_xla/xla/stream_executor/cuda/cuda_executor.cc:887] could not open file to read NUMA node: /sys/bus/pci/devices/0000:01:00.0/numa_node\n",
      "Your kernel may have been built without NUMA support.\n",
      "2024-03-28 23:51:01.676588: I external/local_xla/xla/stream_executor/cuda/cuda_executor.cc:887] could not open file to read NUMA node: /sys/bus/pci/devices/0000:01:00.0/numa_node\n",
      "Your kernel may have been built without NUMA support.\n",
      "2024-03-28 23:51:01.676609: I external/local_xla/xla/stream_executor/cuda/cuda_executor.cc:887] could not open file to read NUMA node: /sys/bus/pci/devices/0000:01:00.0/numa_node\n",
      "Your kernel may have been built without NUMA support.\n",
      "2024-03-28 23:51:01.890010: I external/local_xla/xla/stream_executor/cuda/cuda_executor.cc:887] could not open file to read NUMA node: /sys/bus/pci/devices/0000:01:00.0/numa_node\n",
      "Your kernel may have been built without NUMA support.\n",
      "2024-03-28 23:51:01.890083: I external/local_xla/xla/stream_executor/cuda/cuda_executor.cc:887] could not open file to read NUMA node: /sys/bus/pci/devices/0000:01:00.0/numa_node\n",
      "Your kernel may have been built without NUMA support.\n",
      "2024-03-28 23:51:01.890091: I tensorflow/core/common_runtime/gpu/gpu_device.cc:2022] Could not identify NUMA node of platform GPU id 0, defaulting to 0.  Your kernel may not have been built with NUMA support.\n",
      "2024-03-28 23:51:01.890121: I external/local_xla/xla/stream_executor/cuda/cuda_executor.cc:887] could not open file to read NUMA node: /sys/bus/pci/devices/0000:01:00.0/numa_node\n",
      "Your kernel may have been built without NUMA support.\n",
      "2024-03-28 23:51:01.890142: I tensorflow/core/common_runtime/gpu/gpu_device.cc:1929] Created device /job:localhost/replica:0/task:0/device:GPU:0 with 3586 MB memory:  -> device: 0, name: NVIDIA GeForce RTX 3060 Laptop GPU, pci bus id: 0000:01:00.0, compute capability: 8.6\n"
     ]
    },
    {
     "name": "stdout",
     "output_type": "stream",
     "text": [
      "Model: \"sequential\"\n",
      "_________________________________________________________________\n",
      " Layer (type)                Output Shape              Param #   \n",
      "=================================================================\n",
      " conv2d (Conv2D)             (None, 256, 256, 64)      640       \n",
      "                                                                 \n",
      " conv2d_1 (Conv2D)           (None, 256, 256, 64)      36928     \n",
      "                                                                 \n",
      " max_pooling2d (MaxPooling2  (None, 128, 128, 64)      0         \n",
      " D)                                                              \n",
      "                                                                 \n",
      " conv2d_2 (Conv2D)           (None, 128, 128, 128)     73856     \n",
      "                                                                 \n",
      " conv2d_3 (Conv2D)           (None, 128, 128, 128)     147584    \n",
      "                                                                 \n",
      " max_pooling2d_1 (MaxPoolin  (None, 64, 64, 128)       0         \n",
      " g2D)                                                            \n",
      "                                                                 \n",
      " conv2d_4 (Conv2D)           (None, 64, 64, 256)       295168    \n",
      "                                                                 \n",
      " max_pooling2d_2 (MaxPoolin  (None, 32, 32, 256)       0         \n",
      " g2D)                                                            \n",
      "                                                                 \n",
      " flatten (Flatten)           (None, 262144)            0         \n",
      "                                                                 \n",
      " dense (Dense)               (None, 128)               33554560  \n",
      "                                                                 \n",
      " dropout (Dropout)           (None, 128)               0         \n",
      "                                                                 \n",
      " dense_1 (Dense)             (None, 128)               16512     \n",
      "                                                                 \n",
      " dropout_1 (Dropout)         (None, 128)               0         \n",
      "                                                                 \n",
      " dense_2 (Dense)             (None, 4)                 516       \n",
      "                                                                 \n",
      "=================================================================\n",
      "Total params: 34125764 (130.18 MB)\n",
      "Trainable params: 34125764 (130.18 MB)\n",
      "Non-trainable params: 0 (0.00 Byte)\n",
      "_________________________________________________________________\n"
     ]
    }
   ],
   "source": [
    "\n",
    "\n",
    "\n",
    "# Assuming your input shape is (height, width, channels)\n",
    "input_shape = (256, 256,1)\n",
    "\n",
    "# Define the VGG-16 model for binary classification\n",
    "model = Sequential([\n",
    "    # Block 1\n",
    "    Conv2D(64, (3, 3), activation='relu', padding='same', input_shape=input_shape),\n",
    "    Conv2D(64, (3, 3), activation='relu', padding='same'),\n",
    "    MaxPooling2D((2, 2)),\n",
    "\n",
    "    # Block 2\n",
    "    Conv2D(128, (3, 3), activation='relu', padding='same'),\n",
    "    Conv2D(128, (3, 3), activation='relu', padding='same'),\n",
    "    MaxPooling2D((2, 2)),\n",
    "\n",
    "    # Block 3\n",
    "    # Conv2D(256, (3, 3), activation='relu', padding='same'),\n",
    "    # Conv2D(256, (3, 3), activation='relu', padding='same'),\n",
    "    Conv2D(256, (3, 3), activation='relu', padding='same'),\n",
    "    MaxPooling2D((2, 2)),\n",
    "\n",
    "    # Block 4\n",
    "    # Conv2D(512, (3, 3), activation='relu', padding='same'),\n",
    "    # Conv2D(512, (3, 3), activation='relu', padding='same'),\n",
    "    # Conv2D(512, (3, 3), activation='relu', padding='same'),\n",
    "    # MaxPooling2D((2, 2)),\n",
    "\n",
    "    # # Block 5\n",
    "    # Conv2D(512, (3, 3), activation='relu', padding='same'),\n",
    "    # Conv2D(512, (3, 3), activation='relu', padding='same'),\n",
    "    # Conv2D(512, (3, 3), activation='relu', padding='same'),\n",
    "    # MaxPooling2D((2, 2)),\n",
    "\n",
    "    # Flatten and dense layers\n",
    "    Flatten(),\n",
    "    Dense(128, activation='relu'),\n",
    "    Dropout(0.5),\n",
    "    Dense(128, activation='relu'),\n",
    "    Dropout(0.5),\n",
    "    Dense(4, activation='softmax')  # Binary classification with sigmoid activation\n",
    "])\n",
    "\n",
    "# Compile the model with binary crossentropy loss and an appropriate optimizer\n",
    "model.compile(optimizer=Adam(1e-3), loss='categorical_crossentropy', metrics=['accuracy'])\n",
    "\n",
    "# Print the summary of the model architecture\n",
    "model.summary()\n"
   ]
  },
  {
   "cell_type": "code",
   "execution_count": 6,
   "metadata": {},
   "outputs": [
    {
     "name": "stdout",
     "output_type": "stream",
     "text": [
      "Epoch 1/10\n"
     ]
    },
    {
     "name": "stderr",
     "output_type": "stream",
     "text": [
      "2024-03-28 23:51:03.502777: I external/local_xla/xla/stream_executor/cuda/cuda_dnn.cc:454] Loaded cuDNN version 8904\n",
      "2024-03-28 23:51:03.856191: I external/local_tsl/tsl/platform/default/subprocess.cc:304] Start cannot spawn child process: No such file or directory\n",
      "2024-03-28 23:51:05.283307: I external/local_tsl/tsl/platform/default/subprocess.cc:304] Start cannot spawn child process: No such file or directory\n",
      "2024-03-28 23:51:05.788335: I external/local_xla/xla/service/service.cc:168] XLA service 0x7f3f3cd52da0 initialized for platform CUDA (this does not guarantee that XLA will be used). Devices:\n",
      "2024-03-28 23:51:05.788400: I external/local_xla/xla/service/service.cc:176]   StreamExecutor device (0): NVIDIA GeForce RTX 3060 Laptop GPU, Compute Capability 8.6\n",
      "2024-03-28 23:51:05.796612: I tensorflow/compiler/mlir/tensorflow/utils/dump_mlir_util.cc:269] disabling MLIR crash reproducer, set env var `MLIR_CRASH_REPRODUCER_DIRECTORY` to enable.\n",
      "WARNING: All log messages before absl::InitializeLog() is called are written to STDERR\n",
      "I0000 00:00:1711650065.864949  592277 device_compiler.h:186] Compiled cluster using XLA!  This line is logged at most once for the lifetime of the process.\n",
      "2024-03-28 23:51:06.485652: W external/local_tsl/tsl/framework/bfc_allocator.cc:296] Allocator (GPU_0_bfc) ran out of memory trying to allocate 4.59GiB with freed_by_count=0. The caller indicates that this is not a failure, but this may mean that there could be performance gains if more memory were available.\n",
      "2024-03-28 23:51:06.758243: W external/local_tsl/tsl/framework/bfc_allocator.cc:296] Allocator (GPU_0_bfc) ran out of memory trying to allocate 4.59GiB with freed_by_count=0. The caller indicates that this is not a failure, but this may mean that there could be performance gains if more memory were available.\n",
      "2024-03-28 23:51:10.466123: W external/local_tsl/tsl/framework/bfc_allocator.cc:296] Allocator (GPU_0_bfc) ran out of memory trying to allocate 5.05GiB with freed_by_count=0. The caller indicates that this is not a failure, but this may mean that there could be performance gains if more memory were available.\n",
      "2024-03-28 23:51:10.904070: W external/local_tsl/tsl/framework/bfc_allocator.cc:296] Allocator (GPU_0_bfc) ran out of memory trying to allocate 5.05GiB with freed_by_count=0. The caller indicates that this is not a failure, but this may mean that there could be performance gains if more memory were available.\n"
     ]
    },
    {
     "name": "stdout",
     "output_type": "stream",
     "text": [
      "357/357 [==============================] - 63s 136ms/step - loss: 0.9225 - accuracy: 0.5882 - val_loss: 0.7066 - val_accuracy: 0.6829\n",
      "Epoch 2/10\n",
      "357/357 [==============================] - 47s 132ms/step - loss: 0.5882 - accuracy: 0.7595 - val_loss: 0.4006 - val_accuracy: 0.8034\n",
      "Epoch 3/10\n",
      "357/357 [==============================] - 47s 132ms/step - loss: 0.4693 - accuracy: 0.8107 - val_loss: 0.3246 - val_accuracy: 0.8537\n",
      "Epoch 4/10\n",
      "357/357 [==============================] - 47s 131ms/step - loss: 0.3692 - accuracy: 0.8498 - val_loss: 0.2676 - val_accuracy: 0.8872\n",
      "Epoch 5/10\n",
      "357/357 [==============================] - 48s 134ms/step - loss: 0.2778 - accuracy: 0.8976 - val_loss: 0.2631 - val_accuracy: 0.8979\n",
      "Epoch 6/10\n",
      "357/357 [==============================] - 48s 135ms/step - loss: 0.2160 - accuracy: 0.9191 - val_loss: 0.1966 - val_accuracy: 0.9177\n",
      "Epoch 7/10\n",
      "357/357 [==============================] - 47s 132ms/step - loss: 0.1925 - accuracy: 0.9331 - val_loss: 0.2304 - val_accuracy: 0.9131\n",
      "Epoch 8/10\n",
      "357/357 [==============================] - 47s 133ms/step - loss: 0.1557 - accuracy: 0.9438 - val_loss: 0.2042 - val_accuracy: 0.9192\n",
      "Epoch 9/10\n",
      "357/357 [==============================] - 44s 124ms/step - loss: 0.1223 - accuracy: 0.9618 - val_loss: 0.2280 - val_accuracy: 0.9223\n",
      "Epoch 10/10\n",
      "357/357 [==============================] - 43s 120ms/step - loss: 0.0995 - accuracy: 0.9655 - val_loss: 0.2666 - val_accuracy: 0.9207\n"
     ]
    }
   ],
   "source": [
    "with tf.device('/gpu:1'):\n",
    "    model.fit(training_set,validation_data=dev_set,epochs=10)"
   ]
  },
  {
   "cell_type": "code",
   "execution_count": 7,
   "metadata": {},
   "outputs": [
    {
     "name": "stdout",
     "output_type": "stream",
     "text": [
      "41/41 [==============================] - 4s 86ms/step - loss: 0.1974 - accuracy: 0.9527\n",
      "Test Loss: 0.19742126762866974, Test Accuracy: 0.9526717662811279\n"
     ]
    }
   ],
   "source": [
    "# Assuming `x_test` and `y_test` are your test data and labels\n",
    "test_loss, test_accuracy = model.evaluate(test_set)\n",
    "print(f\"Test Loss: {test_loss}, Test Accuracy: {test_accuracy}\")\n"
   ]
  },
  {
   "cell_type": "code",
   "execution_count": 8,
   "metadata": {},
   "outputs": [
    {
     "name": "stdout",
     "output_type": "stream",
     "text": [
      "41/41 [==============================] - 2s 47ms/step\n"
     ]
    },
    {
     "data": {
      "text/plain": [
       "array([[9.9999988e-01, 8.6570864e-08, 6.4851502e-10, 4.0587156e-09],\n",
       "       [9.9999750e-01, 2.3664215e-06, 2.3279287e-09, 8.2812015e-08],\n",
       "       [9.9999940e-01, 6.4282921e-07, 3.2567490e-13, 5.2343789e-11],\n",
       "       ...,\n",
       "       [1.2488873e-04, 2.2771258e-02, 1.4686700e-03, 9.7563517e-01],\n",
       "       [7.1879173e-13, 1.8023225e-07, 4.4868678e-09, 9.9999976e-01],\n",
       "       [1.9198097e-14, 2.7381145e-10, 1.7823410e-13, 1.0000000e+00]],\n",
       "      dtype=float32)"
      ]
     },
     "execution_count": 8,
     "metadata": {},
     "output_type": "execute_result"
    }
   ],
   "source": [
    "y_pred = model.predict(test_set)\n",
    "y_pred"
   ]
  },
  {
   "cell_type": "code",
   "execution_count": 9,
   "metadata": {},
   "outputs": [
    {
     "data": {
      "text/plain": [
       "array([[1, 0, 0, 0],\n",
       "       [1, 0, 0, 0],\n",
       "       [1, 0, 0, 0],\n",
       "       ...,\n",
       "       [0, 0, 0, 1],\n",
       "       [0, 0, 0, 1],\n",
       "       [0, 0, 0, 1]])"
      ]
     },
     "execution_count": 9,
     "metadata": {},
     "output_type": "execute_result"
    }
   ],
   "source": [
    "y_pred_new = 1*(y_pred > 0.5)\n",
    "y_pred_new"
   ]
  },
  {
   "cell_type": "code",
   "execution_count": 10,
   "metadata": {},
   "outputs": [
    {
     "name": "stdout",
     "output_type": "stream",
     "text": [
      "[[1 0 0 0]\n",
      " [1 0 0 0]\n",
      " [1 0 0 0]\n",
      " ...\n",
      " [0 0 0 1]\n",
      " [0 0 0 1]\n",
      " [0 0 0 1]]\n"
     ]
    }
   ],
   "source": [
    "y_test_set = np.concatenate([test_set.next()[1] for i in range(test_set.__len__())])\n",
    "y_test_set = y_test_set.astype(int)\n",
    "y_test_set = y_test_set.reshape(len(y_test_set), 4)\n",
    "print(y_test_set)"
   ]
  },
  {
   "cell_type": "code",
   "execution_count": 11,
   "metadata": {},
   "outputs": [
    {
     "name": "stdout",
     "output_type": "stream",
     "text": [
      "0.9526717557251908 \n",
      "\n",
      "[[142   8   0   0]\n",
      " [  0 137  12   4]\n",
      " [  0   0 201   1]\n",
      " [  1   5   0 144]]\n"
     ]
    }
   ],
   "source": [
    "from sklearn.metrics import confusion_matrix,accuracy_score\n",
    "import numpy as np\n",
    "\n",
    "# Assuming y_test and y_pred are your true and predicted labels respectively\n",
    "y_test_decoded = np.argmax(y_test_set, axis=1)\n",
    "y_pred_decoded = np.argmax(y_pred_new, axis=1)\n",
    "\n",
    "cm = confusion_matrix(y_test_decoded, y_pred_decoded)\n",
    "acc= accuracy_score(y_test_set, y_pred_new)\n",
    "print(acc,\"\\n\")\n",
    "print(cm)\n"
   ]
  },
  {
   "cell_type": "markdown",
   "metadata": {},
   "source": [
    "## ResNet Arch"
   ]
  },
  {
   "cell_type": "code",
   "execution_count": 12,
   "metadata": {},
   "outputs": [
    {
     "name": "stdout",
     "output_type": "stream",
     "text": [
      "Model: \"model\"\n",
      "__________________________________________________________________________________________________\n",
      " Layer (type)                Output Shape                 Param #   Connected to                  \n",
      "==================================================================================================\n",
      " input_1 (InputLayer)        [(None, 256, 256, 1)]        0         []                            \n",
      "                                                                                                  \n",
      " conv2d_5 (Conv2D)           (None, 128, 128, 64)         576       ['input_1[0][0]']             \n",
      "                                                                                                  \n",
      " batch_normalization (Batch  (None, 128, 128, 64)         256       ['conv2d_5[0][0]']            \n",
      " Normalization)                                                                                   \n",
      "                                                                                                  \n",
      " re_lu (ReLU)                (None, 128, 128, 64)         0         ['batch_normalization[0][0]'] \n",
      "                                                                                                  \n",
      " conv2d_6 (Conv2D)           (None, 128, 128, 64)         36864     ['re_lu[0][0]']               \n",
      "                                                                                                  \n",
      " batch_normalization_1 (Bat  (None, 128, 128, 64)         256       ['conv2d_6[0][0]']            \n",
      " chNormalization)                                                                                 \n",
      "                                                                                                  \n",
      " re_lu_1 (ReLU)              (None, 128, 128, 64)         0         ['batch_normalization_1[0][0]'\n",
      "                                                                    ]                             \n",
      "                                                                                                  \n",
      " conv2d_7 (Conv2D)           (None, 128, 128, 64)         36864     ['re_lu_1[0][0]']             \n",
      "                                                                                                  \n",
      " batch_normalization_2 (Bat  (None, 128, 128, 64)         256       ['conv2d_7[0][0]']            \n",
      " chNormalization)                                                                                 \n",
      "                                                                                                  \n",
      " re_lu_2 (ReLU)              (None, 128, 128, 64)         0         ['batch_normalization_2[0][0]'\n",
      "                                                                    ]                             \n",
      "                                                                                                  \n",
      " add (Add)                   (None, 128, 128, 64)         0         ['re_lu_2[0][0]',             \n",
      "                                                                     're_lu[0][0]']               \n",
      "                                                                                                  \n",
      " conv2d_8 (Conv2D)           (None, 128, 128, 64)         36864     ['add[0][0]']                 \n",
      "                                                                                                  \n",
      " batch_normalization_3 (Bat  (None, 128, 128, 64)         256       ['conv2d_8[0][0]']            \n",
      " chNormalization)                                                                                 \n",
      "                                                                                                  \n",
      " re_lu_3 (ReLU)              (None, 128, 128, 64)         0         ['batch_normalization_3[0][0]'\n",
      "                                                                    ]                             \n",
      "                                                                                                  \n",
      " conv2d_9 (Conv2D)           (None, 128, 128, 64)         36864     ['re_lu_3[0][0]']             \n",
      "                                                                                                  \n",
      " batch_normalization_4 (Bat  (None, 128, 128, 64)         256       ['conv2d_9[0][0]']            \n",
      " chNormalization)                                                                                 \n",
      "                                                                                                  \n",
      " re_lu_4 (ReLU)              (None, 128, 128, 64)         0         ['batch_normalization_4[0][0]'\n",
      "                                                                    ]                             \n",
      "                                                                                                  \n",
      " add_1 (Add)                 (None, 128, 128, 64)         0         ['re_lu_4[0][0]',             \n",
      "                                                                     'add[0][0]']                 \n",
      "                                                                                                  \n",
      " conv2d_10 (Conv2D)          (None, 128, 128, 64)         36864     ['add_1[0][0]']               \n",
      "                                                                                                  \n",
      " batch_normalization_5 (Bat  (None, 128, 128, 64)         256       ['conv2d_10[0][0]']           \n",
      " chNormalization)                                                                                 \n",
      "                                                                                                  \n",
      " re_lu_5 (ReLU)              (None, 128, 128, 64)         0         ['batch_normalization_5[0][0]'\n",
      "                                                                    ]                             \n",
      "                                                                                                  \n",
      " conv2d_11 (Conv2D)          (None, 128, 128, 64)         36864     ['re_lu_5[0][0]']             \n",
      "                                                                                                  \n",
      " batch_normalization_6 (Bat  (None, 128, 128, 64)         256       ['conv2d_11[0][0]']           \n",
      " chNormalization)                                                                                 \n",
      "                                                                                                  \n",
      " re_lu_6 (ReLU)              (None, 128, 128, 64)         0         ['batch_normalization_6[0][0]'\n",
      "                                                                    ]                             \n",
      "                                                                                                  \n",
      " add_2 (Add)                 (None, 128, 128, 64)         0         ['re_lu_6[0][0]',             \n",
      "                                                                     'add_1[0][0]']               \n",
      "                                                                                                  \n",
      " conv2d_12 (Conv2D)          (None, 128, 128, 64)         36864     ['add_2[0][0]']               \n",
      "                                                                                                  \n",
      " batch_normalization_7 (Bat  (None, 128, 128, 64)         256       ['conv2d_12[0][0]']           \n",
      " chNormalization)                                                                                 \n",
      "                                                                                                  \n",
      " re_lu_7 (ReLU)              (None, 128, 128, 64)         0         ['batch_normalization_7[0][0]'\n",
      "                                                                    ]                             \n",
      "                                                                                                  \n",
      " conv2d_13 (Conv2D)          (None, 128, 128, 64)         36864     ['re_lu_7[0][0]']             \n",
      "                                                                                                  \n",
      " batch_normalization_8 (Bat  (None, 128, 128, 64)         256       ['conv2d_13[0][0]']           \n",
      " chNormalization)                                                                                 \n",
      "                                                                                                  \n",
      " re_lu_8 (ReLU)              (None, 128, 128, 64)         0         ['batch_normalization_8[0][0]'\n",
      "                                                                    ]                             \n",
      "                                                                                                  \n",
      " add_3 (Add)                 (None, 128, 128, 64)         0         ['re_lu_8[0][0]',             \n",
      "                                                                     'add_2[0][0]']               \n",
      "                                                                                                  \n",
      " conv2d_14 (Conv2D)          (None, 64, 64, 128)          73728     ['add_3[0][0]']               \n",
      "                                                                                                  \n",
      " batch_normalization_9 (Bat  (None, 64, 64, 128)          512       ['conv2d_14[0][0]']           \n",
      " chNormalization)                                                                                 \n",
      "                                                                                                  \n",
      " re_lu_9 (ReLU)              (None, 64, 64, 128)          0         ['batch_normalization_9[0][0]'\n",
      "                                                                    ]                             \n",
      "                                                                                                  \n",
      " conv2d_15 (Conv2D)          (None, 64, 64, 128)          147456    ['re_lu_9[0][0]']             \n",
      "                                                                                                  \n",
      " batch_normalization_10 (Ba  (None, 64, 64, 128)          512       ['conv2d_15[0][0]']           \n",
      " tchNormalization)                                                                                \n",
      "                                                                                                  \n",
      " conv2d_16 (Conv2D)          (None, 64, 64, 128)          8192      ['add_3[0][0]']               \n",
      "                                                                                                  \n",
      " re_lu_10 (ReLU)             (None, 64, 64, 128)          0         ['batch_normalization_10[0][0]\n",
      "                                                                    ']                            \n",
      "                                                                                                  \n",
      " batch_normalization_11 (Ba  (None, 64, 64, 128)          512       ['conv2d_16[0][0]']           \n",
      " tchNormalization)                                                                                \n",
      "                                                                                                  \n",
      " add_4 (Add)                 (None, 64, 64, 128)          0         ['re_lu_10[0][0]',            \n",
      "                                                                     'batch_normalization_11[0][0]\n",
      "                                                                    ']                            \n",
      "                                                                                                  \n",
      " conv2d_17 (Conv2D)          (None, 64, 64, 128)          147456    ['add_4[0][0]']               \n",
      "                                                                                                  \n",
      " batch_normalization_12 (Ba  (None, 64, 64, 128)          512       ['conv2d_17[0][0]']           \n",
      " tchNormalization)                                                                                \n",
      "                                                                                                  \n",
      " re_lu_11 (ReLU)             (None, 64, 64, 128)          0         ['batch_normalization_12[0][0]\n",
      "                                                                    ']                            \n",
      "                                                                                                  \n",
      " conv2d_18 (Conv2D)          (None, 64, 64, 128)          147456    ['re_lu_11[0][0]']            \n",
      "                                                                                                  \n",
      " batch_normalization_13 (Ba  (None, 64, 64, 128)          512       ['conv2d_18[0][0]']           \n",
      " tchNormalization)                                                                                \n",
      "                                                                                                  \n",
      " re_lu_12 (ReLU)             (None, 64, 64, 128)          0         ['batch_normalization_13[0][0]\n",
      "                                                                    ']                            \n",
      "                                                                                                  \n",
      " add_5 (Add)                 (None, 64, 64, 128)          0         ['re_lu_12[0][0]',            \n",
      "                                                                     'add_4[0][0]']               \n",
      "                                                                                                  \n",
      " conv2d_19 (Conv2D)          (None, 32, 32, 128)          147456    ['add_5[0][0]']               \n",
      "                                                                                                  \n",
      " batch_normalization_14 (Ba  (None, 32, 32, 128)          512       ['conv2d_19[0][0]']           \n",
      " tchNormalization)                                                                                \n",
      "                                                                                                  \n",
      " re_lu_13 (ReLU)             (None, 32, 32, 128)          0         ['batch_normalization_14[0][0]\n",
      "                                                                    ']                            \n",
      "                                                                                                  \n",
      " conv2d_20 (Conv2D)          (None, 32, 32, 128)          147456    ['re_lu_13[0][0]']            \n",
      "                                                                                                  \n",
      " batch_normalization_15 (Ba  (None, 32, 32, 128)          512       ['conv2d_20[0][0]']           \n",
      " tchNormalization)                                                                                \n",
      "                                                                                                  \n",
      " conv2d_21 (Conv2D)          (None, 32, 32, 128)          16384     ['add_5[0][0]']               \n",
      "                                                                                                  \n",
      " re_lu_14 (ReLU)             (None, 32, 32, 128)          0         ['batch_normalization_15[0][0]\n",
      "                                                                    ']                            \n",
      "                                                                                                  \n",
      " batch_normalization_16 (Ba  (None, 32, 32, 128)          512       ['conv2d_21[0][0]']           \n",
      " tchNormalization)                                                                                \n",
      "                                                                                                  \n",
      " add_6 (Add)                 (None, 32, 32, 128)          0         ['re_lu_14[0][0]',            \n",
      "                                                                     'batch_normalization_16[0][0]\n",
      "                                                                    ']                            \n",
      "                                                                                                  \n",
      " conv2d_22 (Conv2D)          (None, 32, 32, 128)          147456    ['add_6[0][0]']               \n",
      "                                                                                                  \n",
      " batch_normalization_17 (Ba  (None, 32, 32, 128)          512       ['conv2d_22[0][0]']           \n",
      " tchNormalization)                                                                                \n",
      "                                                                                                  \n",
      " re_lu_15 (ReLU)             (None, 32, 32, 128)          0         ['batch_normalization_17[0][0]\n",
      "                                                                    ']                            \n",
      "                                                                                                  \n",
      " conv2d_23 (Conv2D)          (None, 32, 32, 128)          147456    ['re_lu_15[0][0]']            \n",
      "                                                                                                  \n",
      " batch_normalization_18 (Ba  (None, 32, 32, 128)          512       ['conv2d_23[0][0]']           \n",
      " tchNormalization)                                                                                \n",
      "                                                                                                  \n",
      " re_lu_16 (ReLU)             (None, 32, 32, 128)          0         ['batch_normalization_18[0][0]\n",
      "                                                                    ']                            \n",
      "                                                                                                  \n",
      " add_7 (Add)                 (None, 32, 32, 128)          0         ['re_lu_16[0][0]',            \n",
      "                                                                     'add_6[0][0]']               \n",
      "                                                                                                  \n",
      " conv2d_24 (Conv2D)          (None, 16, 16, 128)          147456    ['add_7[0][0]']               \n",
      "                                                                                                  \n",
      " batch_normalization_19 (Ba  (None, 16, 16, 128)          512       ['conv2d_24[0][0]']           \n",
      " tchNormalization)                                                                                \n",
      "                                                                                                  \n",
      " re_lu_17 (ReLU)             (None, 16, 16, 128)          0         ['batch_normalization_19[0][0]\n",
      "                                                                    ']                            \n",
      "                                                                                                  \n",
      " conv2d_25 (Conv2D)          (None, 16, 16, 128)          147456    ['re_lu_17[0][0]']            \n",
      "                                                                                                  \n",
      " batch_normalization_20 (Ba  (None, 16, 16, 128)          512       ['conv2d_25[0][0]']           \n",
      " tchNormalization)                                                                                \n",
      "                                                                                                  \n",
      " conv2d_26 (Conv2D)          (None, 16, 16, 128)          16384     ['add_7[0][0]']               \n",
      "                                                                                                  \n",
      " re_lu_18 (ReLU)             (None, 16, 16, 128)          0         ['batch_normalization_20[0][0]\n",
      "                                                                    ']                            \n",
      "                                                                                                  \n",
      " batch_normalization_21 (Ba  (None, 16, 16, 128)          512       ['conv2d_26[0][0]']           \n",
      " tchNormalization)                                                                                \n",
      "                                                                                                  \n",
      " add_8 (Add)                 (None, 16, 16, 128)          0         ['re_lu_18[0][0]',            \n",
      "                                                                     'batch_normalization_21[0][0]\n",
      "                                                                    ']                            \n",
      "                                                                                                  \n",
      " conv2d_27 (Conv2D)          (None, 16, 16, 128)          147456    ['add_8[0][0]']               \n",
      "                                                                                                  \n",
      " batch_normalization_22 (Ba  (None, 16, 16, 128)          512       ['conv2d_27[0][0]']           \n",
      " tchNormalization)                                                                                \n",
      "                                                                                                  \n",
      " re_lu_19 (ReLU)             (None, 16, 16, 128)          0         ['batch_normalization_22[0][0]\n",
      "                                                                    ']                            \n",
      "                                                                                                  \n",
      " conv2d_28 (Conv2D)          (None, 16, 16, 128)          147456    ['re_lu_19[0][0]']            \n",
      "                                                                                                  \n",
      " batch_normalization_23 (Ba  (None, 16, 16, 128)          512       ['conv2d_28[0][0]']           \n",
      " tchNormalization)                                                                                \n",
      "                                                                                                  \n",
      " re_lu_20 (ReLU)             (None, 16, 16, 128)          0         ['batch_normalization_23[0][0]\n",
      "                                                                    ']                            \n",
      "                                                                                                  \n",
      " add_9 (Add)                 (None, 16, 16, 128)          0         ['re_lu_20[0][0]',            \n",
      "                                                                     'add_8[0][0]']               \n",
      "                                                                                                  \n",
      " conv2d_29 (Conv2D)          (None, 8, 8, 256)            294912    ['add_9[0][0]']               \n",
      "                                                                                                  \n",
      " batch_normalization_24 (Ba  (None, 8, 8, 256)            1024      ['conv2d_29[0][0]']           \n",
      " tchNormalization)                                                                                \n",
      "                                                                                                  \n",
      " re_lu_21 (ReLU)             (None, 8, 8, 256)            0         ['batch_normalization_24[0][0]\n",
      "                                                                    ']                            \n",
      "                                                                                                  \n",
      " conv2d_30 (Conv2D)          (None, 8, 8, 256)            589824    ['re_lu_21[0][0]']            \n",
      "                                                                                                  \n",
      " batch_normalization_25 (Ba  (None, 8, 8, 256)            1024      ['conv2d_30[0][0]']           \n",
      " tchNormalization)                                                                                \n",
      "                                                                                                  \n",
      " conv2d_31 (Conv2D)          (None, 8, 8, 256)            32768     ['add_9[0][0]']               \n",
      "                                                                                                  \n",
      " re_lu_22 (ReLU)             (None, 8, 8, 256)            0         ['batch_normalization_25[0][0]\n",
      "                                                                    ']                            \n",
      "                                                                                                  \n",
      " batch_normalization_26 (Ba  (None, 8, 8, 256)            1024      ['conv2d_31[0][0]']           \n",
      " tchNormalization)                                                                                \n",
      "                                                                                                  \n",
      " add_10 (Add)                (None, 8, 8, 256)            0         ['re_lu_22[0][0]',            \n",
      "                                                                     'batch_normalization_26[0][0]\n",
      "                                                                    ']                            \n",
      "                                                                                                  \n",
      " conv2d_32 (Conv2D)          (None, 8, 8, 256)            589824    ['add_10[0][0]']              \n",
      "                                                                                                  \n",
      " batch_normalization_27 (Ba  (None, 8, 8, 256)            1024      ['conv2d_32[0][0]']           \n",
      " tchNormalization)                                                                                \n",
      "                                                                                                  \n",
      " re_lu_23 (ReLU)             (None, 8, 8, 256)            0         ['batch_normalization_27[0][0]\n",
      "                                                                    ']                            \n",
      "                                                                                                  \n",
      " conv2d_33 (Conv2D)          (None, 8, 8, 256)            589824    ['re_lu_23[0][0]']            \n",
      "                                                                                                  \n",
      " batch_normalization_28 (Ba  (None, 8, 8, 256)            1024      ['conv2d_33[0][0]']           \n",
      " tchNormalization)                                                                                \n",
      "                                                                                                  \n",
      " re_lu_24 (ReLU)             (None, 8, 8, 256)            0         ['batch_normalization_28[0][0]\n",
      "                                                                    ']                            \n",
      "                                                                                                  \n",
      " add_11 (Add)                (None, 8, 8, 256)            0         ['re_lu_24[0][0]',            \n",
      "                                                                     'add_10[0][0]']              \n",
      "                                                                                                  \n",
      " conv2d_34 (Conv2D)          (None, 4, 4, 256)            589824    ['add_11[0][0]']              \n",
      "                                                                                                  \n",
      " batch_normalization_29 (Ba  (None, 4, 4, 256)            1024      ['conv2d_34[0][0]']           \n",
      " tchNormalization)                                                                                \n",
      "                                                                                                  \n",
      " re_lu_25 (ReLU)             (None, 4, 4, 256)            0         ['batch_normalization_29[0][0]\n",
      "                                                                    ']                            \n",
      "                                                                                                  \n",
      " conv2d_35 (Conv2D)          (None, 4, 4, 256)            589824    ['re_lu_25[0][0]']            \n",
      "                                                                                                  \n",
      " batch_normalization_30 (Ba  (None, 4, 4, 256)            1024      ['conv2d_35[0][0]']           \n",
      " tchNormalization)                                                                                \n",
      "                                                                                                  \n",
      " conv2d_36 (Conv2D)          (None, 4, 4, 256)            65536     ['add_11[0][0]']              \n",
      "                                                                                                  \n",
      " re_lu_26 (ReLU)             (None, 4, 4, 256)            0         ['batch_normalization_30[0][0]\n",
      "                                                                    ']                            \n",
      "                                                                                                  \n",
      " batch_normalization_31 (Ba  (None, 4, 4, 256)            1024      ['conv2d_36[0][0]']           \n",
      " tchNormalization)                                                                                \n",
      "                                                                                                  \n",
      " add_12 (Add)                (None, 4, 4, 256)            0         ['re_lu_26[0][0]',            \n",
      "                                                                     'batch_normalization_31[0][0]\n",
      "                                                                    ']                            \n",
      "                                                                                                  \n",
      " conv2d_37 (Conv2D)          (None, 4, 4, 256)            589824    ['add_12[0][0]']              \n",
      "                                                                                                  \n",
      " batch_normalization_32 (Ba  (None, 4, 4, 256)            1024      ['conv2d_37[0][0]']           \n",
      " tchNormalization)                                                                                \n",
      "                                                                                                  \n",
      " re_lu_27 (ReLU)             (None, 4, 4, 256)            0         ['batch_normalization_32[0][0]\n",
      "                                                                    ']                            \n",
      "                                                                                                  \n",
      " conv2d_38 (Conv2D)          (None, 4, 4, 256)            589824    ['re_lu_27[0][0]']            \n",
      "                                                                                                  \n",
      " batch_normalization_33 (Ba  (None, 4, 4, 256)            1024      ['conv2d_38[0][0]']           \n",
      " tchNormalization)                                                                                \n",
      "                                                                                                  \n",
      " re_lu_28 (ReLU)             (None, 4, 4, 256)            0         ['batch_normalization_33[0][0]\n",
      "                                                                    ']                            \n",
      "                                                                                                  \n",
      " add_13 (Add)                (None, 4, 4, 256)            0         ['re_lu_28[0][0]',            \n",
      "                                                                     'add_12[0][0]']              \n",
      "                                                                                                  \n",
      " conv2d_39 (Conv2D)          (None, 2, 2, 512)            1179648   ['add_13[0][0]']              \n",
      "                                                                                                  \n",
      " batch_normalization_34 (Ba  (None, 2, 2, 512)            2048      ['conv2d_39[0][0]']           \n",
      " tchNormalization)                                                                                \n",
      "                                                                                                  \n",
      " re_lu_29 (ReLU)             (None, 2, 2, 512)            0         ['batch_normalization_34[0][0]\n",
      "                                                                    ']                            \n",
      "                                                                                                  \n",
      " conv2d_40 (Conv2D)          (None, 2, 2, 512)            2359296   ['re_lu_29[0][0]']            \n",
      "                                                                                                  \n",
      " batch_normalization_35 (Ba  (None, 2, 2, 512)            2048      ['conv2d_40[0][0]']           \n",
      " tchNormalization)                                                                                \n",
      "                                                                                                  \n",
      " conv2d_41 (Conv2D)          (None, 2, 2, 512)            131072    ['add_13[0][0]']              \n",
      "                                                                                                  \n",
      " re_lu_30 (ReLU)             (None, 2, 2, 512)            0         ['batch_normalization_35[0][0]\n",
      "                                                                    ']                            \n",
      "                                                                                                  \n",
      " batch_normalization_36 (Ba  (None, 2, 2, 512)            2048      ['conv2d_41[0][0]']           \n",
      " tchNormalization)                                                                                \n",
      "                                                                                                  \n",
      " add_14 (Add)                (None, 2, 2, 512)            0         ['re_lu_30[0][0]',            \n",
      "                                                                     'batch_normalization_36[0][0]\n",
      "                                                                    ']                            \n",
      "                                                                                                  \n",
      " conv2d_42 (Conv2D)          (None, 2, 2, 512)            2359296   ['add_14[0][0]']              \n",
      "                                                                                                  \n",
      " batch_normalization_37 (Ba  (None, 2, 2, 512)            2048      ['conv2d_42[0][0]']           \n",
      " tchNormalization)                                                                                \n",
      "                                                                                                  \n",
      " re_lu_31 (ReLU)             (None, 2, 2, 512)            0         ['batch_normalization_37[0][0]\n",
      "                                                                    ']                            \n",
      "                                                                                                  \n",
      " conv2d_43 (Conv2D)          (None, 2, 2, 512)            2359296   ['re_lu_31[0][0]']            \n",
      "                                                                                                  \n",
      " batch_normalization_38 (Ba  (None, 2, 2, 512)            2048      ['conv2d_43[0][0]']           \n",
      " tchNormalization)                                                                                \n",
      "                                                                                                  \n",
      " re_lu_32 (ReLU)             (None, 2, 2, 512)            0         ['batch_normalization_38[0][0]\n",
      "                                                                    ']                            \n",
      "                                                                                                  \n",
      " add_15 (Add)                (None, 2, 2, 512)            0         ['re_lu_32[0][0]',            \n",
      "                                                                     'add_14[0][0]']              \n",
      "                                                                                                  \n",
      " conv2d_44 (Conv2D)          (None, 1, 1, 512)            2359296   ['add_15[0][0]']              \n",
      "                                                                                                  \n",
      " batch_normalization_39 (Ba  (None, 1, 1, 512)            2048      ['conv2d_44[0][0]']           \n",
      " tchNormalization)                                                                                \n",
      "                                                                                                  \n",
      " re_lu_33 (ReLU)             (None, 1, 1, 512)            0         ['batch_normalization_39[0][0]\n",
      "                                                                    ']                            \n",
      "                                                                                                  \n",
      " conv2d_45 (Conv2D)          (None, 1, 1, 512)            2359296   ['re_lu_33[0][0]']            \n",
      "                                                                                                  \n",
      " batch_normalization_40 (Ba  (None, 1, 1, 512)            2048      ['conv2d_45[0][0]']           \n",
      " tchNormalization)                                                                                \n",
      "                                                                                                  \n",
      " conv2d_46 (Conv2D)          (None, 1, 1, 512)            262144    ['add_15[0][0]']              \n",
      "                                                                                                  \n",
      " re_lu_34 (ReLU)             (None, 1, 1, 512)            0         ['batch_normalization_40[0][0]\n",
      "                                                                    ']                            \n",
      "                                                                                                  \n",
      " batch_normalization_41 (Ba  (None, 1, 1, 512)            2048      ['conv2d_46[0][0]']           \n",
      " tchNormalization)                                                                                \n",
      "                                                                                                  \n",
      " add_16 (Add)                (None, 1, 1, 512)            0         ['re_lu_34[0][0]',            \n",
      "                                                                     'batch_normalization_41[0][0]\n",
      "                                                                    ']                            \n",
      "                                                                                                  \n",
      " conv2d_47 (Conv2D)          (None, 1, 1, 512)            2359296   ['add_16[0][0]']              \n",
      "                                                                                                  \n",
      " batch_normalization_42 (Ba  (None, 1, 1, 512)            2048      ['conv2d_47[0][0]']           \n",
      " tchNormalization)                                                                                \n",
      "                                                                                                  \n",
      " re_lu_35 (ReLU)             (None, 1, 1, 512)            0         ['batch_normalization_42[0][0]\n",
      "                                                                    ']                            \n",
      "                                                                                                  \n",
      " conv2d_48 (Conv2D)          (None, 1, 1, 512)            2359296   ['re_lu_35[0][0]']            \n",
      "                                                                                                  \n",
      " batch_normalization_43 (Ba  (None, 1, 1, 512)            2048      ['conv2d_48[0][0]']           \n",
      " tchNormalization)                                                                                \n",
      "                                                                                                  \n",
      " re_lu_36 (ReLU)             (None, 1, 1, 512)            0         ['batch_normalization_43[0][0]\n",
      "                                                                    ']                            \n",
      "                                                                                                  \n",
      " add_17 (Add)                (None, 1, 1, 512)            0         ['re_lu_36[0][0]',            \n",
      "                                                                     'add_16[0][0]']              \n",
      "                                                                                                  \n",
      " global_average_pooling2d (  (None, 512)                  0         ['add_17[0][0]']              \n",
      " GlobalAveragePooling2D)                                                                          \n",
      "                                                                                                  \n",
      " dense_3 (Dense)             (None, 4)                    2052      ['global_average_pooling2d[0][\n",
      "                                                                    0]']                          \n",
      "                                                                                                  \n",
      "==================================================================================================\n",
      "Total params: 24684868 (94.17 MB)\n",
      "Trainable params: 24664516 (94.09 MB)\n",
      "Non-trainable params: 20352 (79.50 KB)\n",
      "__________________________________________________________________________________________________\n"
     ]
    }
   ],
   "source": [
    "\n",
    "def conv_block(x, filters, kernel_size=(3, 3), strides=(1, 1), padding='same'):\n",
    "    x = tf.keras.layers.Conv2D(filters, kernel_size, strides=strides, padding=padding, use_bias=False)(x)\n",
    "    x = tf.keras.layers.BatchNormalization()(x)\n",
    "    x = tf.keras.layers.ReLU()(x)\n",
    "    return x\n",
    "\n",
    "def residual_block(x, filters, kernel_size=(3, 3), strides=(1, 1), padding='same'):\n",
    "    shortcut = x\n",
    "\n",
    "    x = conv_block(x, filters, kernel_size, strides, padding)\n",
    "    x = conv_block(x, filters, kernel_size, strides=(1, 1), padding='same')\n",
    "\n",
    "    if strides != (1, 1) or filters != shortcut.shape[-1]:\n",
    "        shortcut = tf.keras.layers.Conv2D(filters, kernel_size=(1, 1), strides=strides, use_bias=False)(shortcut)\n",
    "        shortcut = tf.keras.layers.BatchNormalization()(shortcut)\n",
    "\n",
    "    x = tf.keras.layers.add([x, shortcut])\n",
    "    return x\n",
    "\n",
    "def ResNet(input_shape, num_classes):\n",
    "    inputs = tf.keras.layers.Input(shape=input_shape)\n",
    "\n",
    "    x = conv_block(inputs, 64, strides=(2, 2), padding='same')\n",
    "\n",
    "    x = residual_block(x, 64, kernel_size=(3, 3))\n",
    "    x = residual_block(x, 64)\n",
    "\n",
    "    x = residual_block(x, 64, kernel_size=(3, 3))\n",
    "    x = residual_block(x, 64)\n",
    "    \n",
    "    x = residual_block(x, 128, kernel_size=(3, 3), strides=(2, 2), padding='same')\n",
    "    x = residual_block(x, 128)\n",
    "    \n",
    "    x = residual_block(x, 128, kernel_size=(3, 3), strides=(2, 2), padding='same')\n",
    "    x = residual_block(x, 128)\n",
    "\n",
    "    x = residual_block(x, 128, kernel_size=(3, 3), strides=(2, 2), padding='same')\n",
    "    x = residual_block(x, 128)\n",
    "\n",
    "    x = residual_block(x, 256, kernel_size=(3, 3), strides=(2, 2), padding='same')\n",
    "    x = residual_block(x, 256)\n",
    "    \n",
    "    x = residual_block(x, 256, kernel_size=(3, 3), strides=(2, 2), padding='same')\n",
    "    x = residual_block(x, 256)\n",
    "\n",
    "    x = residual_block(x, 512, kernel_size=(3, 3), strides=(2, 2), padding='same')\n",
    "    x = residual_block(x, 512)\n",
    "    \n",
    "    x = residual_block(x, 512, kernel_size=(3, 3), strides=(2, 2), padding='same')\n",
    "    x = residual_block(x, 512)\n",
    "\n",
    "    x = tf.keras.layers.GlobalAveragePooling2D()(x)\n",
    "    outputs = tf.keras.layers.Dense(num_classes, activation='softmax')(x)\n",
    "\n",
    "    model_1 = tf.keras.Model(inputs=inputs, outputs=outputs)\n",
    "    return model_1\n",
    "\n",
    "model_1 = ResNet((256, 256, 1),4)\n",
    "model_1.summary()\n"
   ]
  },
  {
   "cell_type": "code",
   "execution_count": 13,
   "metadata": {},
   "outputs": [
    {
     "name": "stdout",
     "output_type": "stream",
     "text": [
      "Epoch 1/10\n"
     ]
    },
    {
     "name": "stderr",
     "output_type": "stream",
     "text": [
      "2024-03-28 23:59:23.379612: W external/local_tsl/tsl/framework/bfc_allocator.cc:296] Allocator (GPU_0_bfc) ran out of memory trying to allocate 2.31GiB with freed_by_count=0. The caller indicates that this is not a failure, but this may mean that there could be performance gains if more memory were available.\n",
      "2024-03-28 23:59:23.420530: W external/local_tsl/tsl/framework/bfc_allocator.cc:296] Allocator (GPU_0_bfc) ran out of memory trying to allocate 2.31GiB with freed_by_count=0. The caller indicates that this is not a failure, but this may mean that there could be performance gains if more memory were available.\n",
      "2024-03-28 23:59:24.623234: W external/local_tsl/tsl/framework/bfc_allocator.cc:296] Allocator (GPU_0_bfc) ran out of memory trying to allocate 1.17GiB with freed_by_count=0. The caller indicates that this is not a failure, but this may mean that there could be performance gains if more memory were available.\n",
      "2024-03-28 23:59:24.674431: W external/local_tsl/tsl/framework/bfc_allocator.cc:296] Allocator (GPU_0_bfc) ran out of memory trying to allocate 1.17GiB with freed_by_count=0. The caller indicates that this is not a failure, but this may mean that there could be performance gains if more memory were available.\n",
      "2024-03-28 23:59:30.672794: W external/local_tsl/tsl/framework/bfc_allocator.cc:296] Allocator (GPU_0_bfc) ran out of memory trying to allocate 2.19GiB with freed_by_count=0. The caller indicates that this is not a failure, but this may mean that there could be performance gains if more memory were available.\n",
      "2024-03-28 23:59:30.773165: W external/local_tsl/tsl/framework/bfc_allocator.cc:296] Allocator (GPU_0_bfc) ran out of memory trying to allocate 2.19GiB with freed_by_count=0. The caller indicates that this is not a failure, but this may mean that there could be performance gains if more memory were available.\n"
     ]
    },
    {
     "name": "stdout",
     "output_type": "stream",
     "text": [
      "357/357 [==============================] - 99s 211ms/step - loss: 0.6734 - accuracy: 0.7635 - val_loss: 1.3386 - val_accuracy: 0.3140\n",
      "Epoch 2/10\n",
      "357/357 [==============================] - 71s 199ms/step - loss: 0.4523 - accuracy: 0.8575 - val_loss: 0.4207 - val_accuracy: 0.8415\n",
      "Epoch 3/10\n",
      "357/357 [==============================] - 71s 199ms/step - loss: 0.3451 - accuracy: 0.8906 - val_loss: 0.3381 - val_accuracy: 0.8796\n",
      "Epoch 4/10\n",
      "357/357 [==============================] - 71s 199ms/step - loss: 0.3192 - accuracy: 0.8957 - val_loss: 0.3719 - val_accuracy: 0.8582\n",
      "Epoch 5/10\n",
      "357/357 [==============================] - 71s 200ms/step - loss: 0.2657 - accuracy: 0.9130 - val_loss: 0.2085 - val_accuracy: 0.9238\n",
      "Epoch 6/10\n",
      "357/357 [==============================] - 71s 200ms/step - loss: 0.2516 - accuracy: 0.9216 - val_loss: 10.3734 - val_accuracy: 0.6021\n",
      "Epoch 7/10\n",
      "357/357 [==============================] - 72s 201ms/step - loss: 0.2201 - accuracy: 0.9265 - val_loss: 0.2650 - val_accuracy: 0.8902\n",
      "Epoch 8/10\n",
      "357/357 [==============================] - 72s 201ms/step - loss: 0.2064 - accuracy: 0.9349 - val_loss: 0.3924 - val_accuracy: 0.8704\n",
      "Epoch 9/10\n",
      "357/357 [==============================] - 71s 198ms/step - loss: 0.1340 - accuracy: 0.9561 - val_loss: 0.2683 - val_accuracy: 0.9207\n",
      "Epoch 10/10\n",
      "357/357 [==============================] - 71s 199ms/step - loss: 0.1300 - accuracy: 0.9592 - val_loss: 0.2103 - val_accuracy: 0.9238\n"
     ]
    }
   ],
   "source": [
    "with tf.device('/gpu:1'):\n",
    "    # Compile the model for regression\n",
    "    model_1.compile(optimizer=Adam(1e-3), loss='categorical_crossentropy', metrics=['accuracy'])\n",
    "\n",
    "    # Train the model\n",
    "    model_1.fit(training_set,validation_data=dev_set,epochs=10) # increase the epochs\n",
    "    # # Evaluate the model\n",
    "    # loss, accuracy = model.evaluate(x_test, y_test)\n",
    "    # print(f\"Test Loss: {loss}, Test MAE: {mae}\")"
   ]
  },
  {
   "cell_type": "code",
   "execution_count": 14,
   "metadata": {},
   "outputs": [
    {
     "name": "stdout",
     "output_type": "stream",
     "text": [
      "41/41 [==============================] - 7s 162ms/step - loss: 0.1809 - accuracy: 0.9527\n",
      "Test Loss: 0.18094976246356964, Test Accuracy: 0.9526717662811279\n"
     ]
    }
   ],
   "source": [
    "# Assuming `x_test` and `y_test` are your test data and labels\n",
    "test_loss, test_accuracy = model_1.evaluate(test_set)\n",
    "print(f\"Test Loss: {test_loss}, Test Accuracy: {test_accuracy}\")\n"
   ]
  },
  {
   "cell_type": "code",
   "execution_count": 15,
   "metadata": {},
   "outputs": [],
   "source": [
    "import cv2\n",
    "import os\n",
    "\n",
    "# Define the folder path and the desired size\n",
    "folder = \"/home/sagnik/ML_Folder/Brain Tumour detection using MRI images/Dataset/Demo\"\n",
    "size = (256, 256)\n",
    "\n",
    "# Loop over the files in the folder\n",
    "for filename in os.listdir(folder):\n",
    "  # Check if the file is an image\n",
    "  if filename.endswith(\".jpg\") or filename.endswith(\".png\"):\n",
    "    # Load the image as a numpy array\n",
    "    img = cv2.imread(os.path.join(folder, filename))\n",
    "    # Resize the image to the desired size\n",
    "    img = cv2.resize(img, size)\n",
    "    # Convert the image to RGB color mode\n",
    "    img = cv2.cvtColor(img, cv2.COLOR_BGR2RGB)\n",
    "    # Save the image with the same name\n",
    "    cv2.imwrite(os.path.join(folder, filename), img)\n"
   ]
  },
  {
   "cell_type": "code",
   "execution_count": 16,
   "metadata": {},
   "outputs": [
    {
     "name": "stdout",
     "output_type": "stream",
     "text": [
      "<class 'numpy.ndarray'>\n",
      "(256, 256, 3)\n"
     ]
    },
    {
     "data": {
      "image/png": "[encoded data removed]",
      "text/plain": [
       "<Figure size 640x480 with 1 Axes>"
      ]
     },
     "metadata": {},
     "output_type": "display_data"
    }
   ],
   "source": [
    "import matplotlib.pyplot as plt\n",
    "import random\n",
    "import cv2\n",
    "# Specify the path to your image folder\n",
    "image_folder = \"/home/sagnik/ML_Folder/Brain Tumour detection using MRI images/Dataset/Demo\"\n",
    "\n",
    "# Create an empty list to store the images\n",
    "images = []\n",
    "\n",
    "# Loop through the files in the folder\n",
    "for filename in os.listdir(image_folder):\n",
    "    if filename.endswith((\".jpg\", \".png\", \".jpeg\", \".bmp\")):\n",
    "        # Check if the file is an image (you can add more file extensions if needed)\n",
    "        image_path = os.path.join(image_folder, filename)\n",
    "        \n",
    "        with Image.open(image_path) as img:\n",
    "            \n",
    "            img_array = np.array(img)\n",
    "            images.append(img_array)\n",
    "\n",
    "# Now, 'images' contains all the images from the folder\n",
    "\n",
    "\n",
    "\n",
    "# Check if there are any images in the list\n",
    "if not images:\n",
    "    print(\"No image files found in the folder.\")\n",
    "else:\n",
    "    # Select a random image from the list\n",
    "    random_image =  random.choice(images) #images[10]\n",
    "    #print(model.predict(random_image))\n",
    "    print(type(random_image))\n",
    "    print(random_image.shape)\n",
    "    \n",
    "    # Open and display the random image\n",
    "    plt.imshow(random_image)\n",
    "    plt.title('Random Image')\n",
    "    plt.axis('off')  # Turn off axis labels and ticks\n",
    "    plt.show()\n",
    "\n",
    "# assuming x is your input data with shape (32, 256, 3)\n",
    "random_image = random_image.reshape(-1, 256, 256, 3) # -1 means infer the batch size automatically\n",
    "# now x has the shape (32, 256, 256, 3) and can be passed to the model\n"
   ]
  },
  {
   "cell_type": "code",
   "execution_count": 18,
   "metadata": {},
   "outputs": [
    {
     "name": "stdout",
     "output_type": "stream",
     "text": [
      "[[1 0 0 0]\n",
      " [1 0 0 0]\n",
      " [1 0 0 0]\n",
      " ...\n",
      " [0 0 0 1]\n",
      " [0 0 0 1]\n",
      " [0 0 0 1]]\n"
     ]
    }
   ],
   "source": [
    "y_test_set = np.concatenate([test_set.next()[1] for i in range(test_set.__len__())])\n",
    "y_test_set = y_test_set.astype(int)\n",
    "y_test_set = y_test_set.reshape(len(y_test_set), 4)\n",
    "print(y_test_set)"
   ]
  },
  {
   "cell_type": "code",
   "execution_count": 19,
   "metadata": {},
   "outputs": [
    {
     "data": {
      "text/plain": [
       "(655, 4)"
      ]
     },
     "execution_count": 19,
     "metadata": {},
     "output_type": "execute_result"
    }
   ],
   "source": [
    "y_test_set.shape"
   ]
  },
  {
   "cell_type": "code",
   "execution_count": 20,
   "metadata": {},
   "outputs": [
    {
     "data": {
      "text/plain": [
       "(655, 4)"
      ]
     },
     "execution_count": 20,
     "metadata": {},
     "output_type": "execute_result"
    }
   ],
   "source": [
    "y_pred_new.shape"
   ]
  },
  {
   "cell_type": "code",
   "execution_count": 21,
   "metadata": {},
   "outputs": [
    {
     "name": "stdout",
     "output_type": "stream",
     "text": [
      "<function accuracy_score at 0x7f406fa52290> \n",
      "\n",
      "[[142   8   0   0]\n",
      " [  0 137  12   4]\n",
      " [  0   0 201   1]\n",
      " [  1   5   0 144]]\n"
     ]
    }
   ],
   "source": [
    "from sklearn.metrics import confusion_matrix\n",
    "import numpy as np\n",
    "\n",
    "# Assuming y_test and y_pred are your true and predicted labels respectively\n",
    "y_test_decoded = np.argmax(y_test_set, axis=1)\n",
    "y_pred_decoded = np.argmax(y_pred_new, axis=1)\n",
    "\n",
    "cm = confusion_matrix(y_test_decoded, y_pred_decoded)\n",
    "accuracy_score(y_test_set, y_pred_new)\n",
    "print(accuracy_score,\"\\n\")\n",
    "print(cm)\n"
   ]
  },
  {
   "cell_type": "code",
   "execution_count": null,
   "metadata": {},
   "outputs": [],
   "source": []
  }
 ],
 "metadata": {
  "kernelspec": {
   "display_name": "Python 3",
   "language": "python",
   "name": "python3"
  },
  "language_info": {
   "codemirror_mode": {
    "name": "ipython",
    "version": 3
   },
   "file_extension": ".py",
   "mimetype": "text/x-python",
   "name": "python",
   "nbconvert_exporter": "python",
   "pygments_lexer": "ipython3",
   "version": "3.10.12"
  }
 },
 "nbformat": 4,
 "nbformat_minor": 2
}
